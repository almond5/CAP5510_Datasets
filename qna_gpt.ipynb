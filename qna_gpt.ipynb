{
 "cells": [
  {
   "cell_type": "code",
   "execution_count": 9,
   "metadata": {},
   "outputs": [],
   "source": [
    "# Load model directly\n",
    "from transformers import BioGptTokenizer, BioGptForCausalLM\n",
    "\n",
    "tokenizer = BioGptTokenizer.from_pretrained(\"microsoft/biogpt\")\n",
    "model = BioGptForCausalLM.from_pretrained(\"microsoft/biogpt\")"
   ]
  },
  {
   "cell_type": "code",
   "execution_count": 17,
   "metadata": {},
   "outputs": [],
   "source": [
    "from datasets import load_dataset\n",
    "\n",
    "ds = load_dataset(\"qiaojin/PubMedQA\", \"pqa_labeled\")\n"
   ]
  },
  {
   "cell_type": "code",
   "execution_count": 23,
   "metadata": {},
   "outputs": [
    {
     "name": "stderr",
     "output_type": "stream",
     "text": [
      "Map: 100%|██████████| 2/2 [00:00<00:00, 108.05 examples/s]\n"
     ]
    },
    {
     "name": "stdout",
     "output_type": "stream",
     "text": [
      "Train dataset: Dataset({\n",
      "    features: ['pubid', 'question', 'context', 'long_answer', 'final_decision', 'input_ids', 'attention_mask', 'labels'],\n",
      "    num_rows: 1\n",
      "})\n",
      "Validation dataset: Dataset({\n",
      "    features: ['pubid', 'question', 'context', 'long_answer', 'final_decision', 'input_ids', 'attention_mask', 'labels'],\n",
      "    num_rows: 1\n",
      "})\n"
     ]
    },
    {
     "name": "stderr",
     "output_type": "stream",
     "text": [
      "\n",
      "\u001b[A\n",
      "\n",
      "\u001b[A\u001b[A                               \n",
      "                                             \n",
      "  0%|          | 0/4 [00:51<?, ?it/s]\n",
      "\u001b[A\n",
      "100%|██████████| 1/1 [00:15<00:00, 15.13s/it]\n"
     ]
    },
    {
     "name": "stdout",
     "output_type": "stream",
     "text": [
      "{'eval_loss': 15.311264991760254, 'eval_runtime': 1.3648, 'eval_samples_per_second': 0.733, 'eval_steps_per_second': 0.733, 'epoch': 1.0}\n",
      "{'train_runtime': 15.1295, 'train_samples_per_second': 0.066, 'train_steps_per_second': 0.066, 'train_loss': 19.031047821044922, 'epoch': 1.0}\n"
     ]
    },
    {
     "name": "stderr",
     "output_type": "stream",
     "text": [
      "100%|██████████| 1/1 [00:00<00:00, 1974.72it/s]"
     ]
    },
    {
     "name": "stdout",
     "output_type": "stream",
     "text": [
      "Test set evaluation: {'eval_loss': 15.311264991760254, 'eval_runtime': 1.1741, 'eval_samples_per_second': 0.852, 'eval_steps_per_second': 0.852, 'epoch': 1.0}\n"
     ]
    },
    {
     "name": "stderr",
     "output_type": "stream",
     "text": [
      "\n"
     ]
    }
   ],
   "source": [
    "from transformers import Trainer, TrainingArguments, BioGptTokenizer, BioGptForCausalLM\n",
    "from datasets import load_dataset\n",
    "\n",
    "# Load BioGPT tokenizer and model\n",
    "tokenizer = BioGptTokenizer.from_pretrained(\"microsoft/biogpt\")\n",
    "model = BioGptForCausalLM.from_pretrained(\"microsoft/biogpt\")\n",
    "\n",
    "# Load the dataset\n",
    "ds = load_dataset(\"qiaojin/PubMedQA\", \"pqa_labeled\")\n",
    "\n",
    "# Preprocess the dataset\n",
    "def preprocess_function(examples):\n",
    "    inputs = examples['question']\n",
    "    targets = examples['long_answer']\n",
    "    model_inputs = tokenizer(inputs, max_length=512, truncation=True, padding=\"max_length\")\n",
    "\n",
    "    # Setup the tokenizer for targets\n",
    "    with tokenizer.as_target_tokenizer():\n",
    "        labels = tokenizer(targets, max_length=512, truncation=True, padding=\"max_length\")\n",
    "\n",
    "    model_inputs[\"labels\"] = labels[\"input_ids\"]\n",
    "    return model_inputs\n",
    "\n",
    "# Select a small subset of the dataset for demonstration\n",
    "small_ds = ds['train'].select(range(8))\n",
    "tokenized_ds = small_ds.map(preprocess_function, batched=True)\n",
    "\n",
    "# Split the dataset\n",
    "train_test_split = tokenized_ds.train_test_split(test_size=1, train_size=1)\n",
    "train_dataset = train_test_split['train']\n",
    "eval_dataset = train_test_split['test']\n",
    "\n",
    "# Print dataset shapes and types for debugging\n",
    "print(\"Train dataset:\", train_dataset)\n",
    "print(\"Validation dataset:\", eval_dataset)\n",
    "\n",
    "# Define training arguments\n",
    "training_args = TrainingArguments(\n",
    "    output_dir=\"./results\",\n",
    "    evaluation_strategy=\"epoch\",\n",
    "    learning_rate=2e-5,\n",
    "    per_device_train_batch_size=1,\n",
    "    per_device_eval_batch_size=1,\n",
    "    num_train_epochs=1,\n",
    "    weight_decay=0.01,\n",
    ")\n",
    "\n",
    "# Initialize the Trainer\n",
    "trainer = Trainer(\n",
    "    model=model,\n",
    "    args=training_args,\n",
    "    train_dataset=train_dataset,\n",
    "    eval_dataset=eval_dataset,\n",
    "    tokenizer=tokenizer,\n",
    ")\n",
    "\n",
    "# Train the model\n",
    "trainer.train()\n",
    "\n",
    "# Evaluate the model\n",
    "metrics = trainer.evaluate(eval_dataset=eval_dataset)\n",
    "print(\"Test set evaluation:\", metrics)"
   ]
  },
  {
   "cell_type": "code",
   "execution_count": 28,
   "metadata": {},
   "outputs": [
    {
     "name": "stdout",
     "output_type": "stream",
     "text": [
      "Question: Landolt C and snellen e acuity: differences in strabismus amblyopia?\n",
      "True Answer: Using the charts described, there was only a slight overestimation of visual acuity by the Snellen E compared to the Landolt C, even in strabismus amblyopia. Small differences in the lower visual acuity range have to be considered.\n",
      "Predicted Answer: Landolt C and snellen e acuity: differences in strabismus amblyopia? r\n",
      "================================================================================\n"
     ]
    }
   ],
   "source": [
    "import torch\n",
    "\n",
    "# Generate predictions\n",
    "def generate_answer(question):\n",
    "    inputs = tokenizer(question, return_tensors=\"pt\", max_length=257, truncation=True, padding=\"max_length\")\n",
    "    inputs = {key: val.to(model.device) for key, val in inputs.items()}\n",
    "    with torch.no_grad():\n",
    "        outputs = model.generate(**inputs, max_length=258)\n",
    "    answer = tokenizer.decode(outputs[0], skip_special_tokens=True)\n",
    "    return answer\n",
    "\n",
    "# Evaluate the Q&A performance\n",
    "for example in eval_dataset:\n",
    "    question = example['question']\n",
    "    true_answer = example['long_answer']\n",
    "    predicted_answer = generate_answer(question)\n",
    "    print(f\"Question: {question}\")\n",
    "    print(f\"True Answer: {true_answer}\")\n",
    "    print(f\"Predicted Answer: {predicted_answer}\")\n",
    "    print(\"=\"*80)"
   ]
  }
 ],
 "metadata": {
  "kernelspec": {
   "display_name": "Python 3",
   "language": "python",
   "name": "python3"
  },
  "language_info": {
   "codemirror_mode": {
    "name": "ipython",
    "version": 3
   },
   "file_extension": ".py",
   "mimetype": "text/x-python",
   "name": "python",
   "nbconvert_exporter": "python",
   "pygments_lexer": "ipython3",
   "version": "3.11.0"
  }
 },
 "nbformat": 4,
 "nbformat_minor": 2
}
