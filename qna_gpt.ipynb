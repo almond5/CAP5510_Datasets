{
 "cells": [
  {
   "cell_type": "code",
   "execution_count": 9,
   "metadata": {},
   "outputs": [],
   "source": [
    "# Load model directly\n",
    "from transformers import BioGptTokenizer, BioGptForCausalLM\n",
    "\n",
    "tokenizer = BioGptTokenizer.from_pretrained(\"microsoft/biogpt\")\n",
    "model = BioGptForCausalLM.from_pretrained(\"microsoft/biogpt\")"
   ]
  },
  {
   "cell_type": "code",
   "execution_count": 17,
   "metadata": {},
   "outputs": [],
   "source": [
    "from datasets import load_dataset\n",
    "\n",
    "ds = load_dataset(\"qiaojin/PubMedQA\", \"pqa_labeled\")\n"
   ]
  },
  {
   "cell_type": "code",
   "execution_count": 41,
   "metadata": {},
   "outputs": [
    {
     "name": "stderr",
     "output_type": "stream",
     "text": [
      "c:\\Users\\Almond\\AppData\\Local\\Programs\\Python\\Python311\\Lib\\site-packages\\transformers\\tokenization_utils_base.py:1617: FutureWarning: `clean_up_tokenization_spaces` was not set. It will be set to `True` by default. This behavior will be deprecated in transformers v4.45, and will be then set to `False` by default. For more details check this issue: https://github.com/huggingface/transformers/issues/31884\n",
      "  warnings.warn(\n"
     ]
    },
    {
     "name": "stdout",
     "output_type": "stream",
     "text": [
      "Train dataset: Dataset({\n",
      "    features: ['pubid', 'question', 'context', 'long_answer', 'final_decision', 'input_ids', 'attention_mask', 'labels'],\n",
      "    num_rows: 4\n",
      "})\n",
      "Validation dataset: Dataset({\n",
      "    features: ['pubid', 'question', 'context', 'long_answer', 'final_decision', 'input_ids', 'attention_mask', 'labels'],\n",
      "    num_rows: 4\n",
      "})\n"
     ]
    },
    {
     "name": "stderr",
     "output_type": "stream",
     "text": [
      "c:\\Users\\Almond\\AppData\\Local\\Programs\\Python\\Python311\\Lib\\site-packages\\transformers\\training_args.py:1545: FutureWarning: `evaluation_strategy` is deprecated and will be removed in version 4.46 of 🤗 Transformers. Use `eval_strategy` instead\n",
      "  warnings.warn(\n",
      "100%|██████████| 4/4 [00:23<00:00,  5.67s/it]\n",
      "100%|██████████| 4/4 [00:32<00:00,  8.19s/it]\n"
     ]
    },
    {
     "name": "stdout",
     "output_type": "stream",
     "text": [
      "{'eval_loss': 9.697182655334473, 'eval_runtime': 5.0531, 'eval_samples_per_second': 0.792, 'eval_steps_per_second': 0.792, 'epoch': 1.0}\n",
      "{'train_runtime': 32.7418, 'train_samples_per_second': 0.122, 'train_steps_per_second': 0.122, 'train_loss': 15.264518737792969, 'epoch': 1.0}\n"
     ]
    },
    {
     "name": "stderr",
     "output_type": "stream",
     "text": [
      "100%|██████████| 4/4 [00:03<00:00,  1.11it/s]"
     ]
    },
    {
     "name": "stdout",
     "output_type": "stream",
     "text": [
      "Test set evaluation: {'eval_loss': 9.697182655334473, 'eval_runtime': 4.8731, 'eval_samples_per_second': 0.821, 'eval_steps_per_second': 0.821, 'epoch': 1.0}\n"
     ]
    },
    {
     "name": "stderr",
     "output_type": "stream",
     "text": [
      "\n"
     ]
    }
   ],
   "source": [
    "from transformers import Trainer, TrainingArguments, BioGptTokenizer, BioGptForCausalLM\n",
    "from datasets import load_dataset\n",
    "\n",
    "# Load BioGPT tokenizer and model\n",
    "tokenizer = BioGptTokenizer.from_pretrained(\"microsoft/biogpt\")\n",
    "model = BioGptForCausalLM.from_pretrained(\"microsoft/biogpt\")\n",
    "\n",
    "# Load the dataset\n",
    "ds = load_dataset(\"qiaojin/PubMedQA\", \"pqa_labeled\")\n",
    "\n",
    "# Preprocess the dataset\n",
    "def preprocess_function(examples):\n",
    "    inputs = examples['question']\n",
    "    targets = examples['final_decision']\n",
    "    model_inputs = tokenizer(inputs, max_length=512, truncation=True, padding=\"max_length\")\n",
    "\n",
    "    # Setup the tokenizer for targets\n",
    "    with tokenizer.as_target_tokenizer():\n",
    "        labels = tokenizer(targets, max_length=512, truncation=True, padding=\"max_length\")\n",
    "\n",
    "    model_inputs[\"labels\"] = labels[\"input_ids\"]\n",
    "    return model_inputs\n",
    "\n",
    "# Select a small subset of the dataset for demonstration\n",
    "small_ds = ds['train'].select(range(100))\n",
    "tokenized_ds = small_ds.map(preprocess_function, batched=True)\n",
    "\n",
    "# Split the dataset\n",
    "train_test_split = tokenized_ds.train_test_split(test_size=60, train_size=40)\n",
    "train_dataset = train_test_split['train']\n",
    "eval_dataset = train_test_split['test']\n",
    "\n",
    "# Print dataset shapes and types for debugging\n",
    "print(\"Train dataset:\", train_dataset)\n",
    "print(\"Validation dataset:\", eval_dataset)\n",
    "\n",
    "# Define training arguments\n",
    "training_args = TrainingArguments(\n",
    "    output_dir=\"./results\",\n",
    "    evaluation_strategy=\"epoch\",\n",
    "    learning_rate=2e-5,\n",
    "    per_device_train_batch_size=1,\n",
    "    per_device_eval_batch_size=1,\n",
    "    num_train_epochs=1,\n",
    "    weight_decay=0.01,\n",
    ")\n",
    "\n",
    "# Initialize the Trainer\n",
    "trainer = Trainer(\n",
    "    model=model,\n",
    "    args=training_args,\n",
    "    train_dataset=train_dataset,\n",
    "    eval_dataset=eval_dataset,\n",
    "    tokenizer=tokenizer,\n",
    ")\n",
    "\n",
    "# Train the model\n",
    "trainer.train()\n",
    "\n",
    "# Evaluate the model\n",
    "metrics = trainer.evaluate(eval_dataset=eval_dataset)\n",
    "print(\"Test set evaluation:\", metrics)"
   ]
  },
  {
   "cell_type": "code",
   "execution_count": 42,
   "metadata": {},
   "outputs": [
    {
     "name": "stdout",
     "output_type": "stream",
     "text": [
      "Question: Are the long-term results of the transanal pull-through equal to those of the transabdominal pull-through?\n",
      "True Answer: no\n",
      "Predicted Answer: yes\n",
      "================================================================================\n",
      "Question: Can tailored interventions increase mammography use among HMO women?\n",
      "True Answer: yes\n",
      "Predicted Answer: yes\n",
      "================================================================================\n",
      "Question: Syncope during bathing in infants, a pediatric form of water-induced urticaria?\n",
      "True Answer: yes\n",
      "Predicted Answer: yes\n",
      "================================================================================\n",
      "Question: Is adjustment for reporting heterogeneity necessary in sleep disorders?\n",
      "True Answer: no\n",
      "Predicted Answer: yes\n",
      "================================================================================\n"
     ]
    }
   ],
   "source": [
    "import torch\n",
    "\n",
    "# Generate predictions\n",
    "def generate_answer(question):\n",
    "    # Prepend the question with a prompt to guide the model\n",
    "    input_prompt = f\"Answer with 'yes' or 'no': {question}\"\n",
    "    \n",
    "    # Tokenize the input\n",
    "    inputs = tokenizer(input_prompt, return_tensors=\"pt\", max_length=257, truncation=True, padding=\"max_length\")\n",
    "    inputs = {key: val.to(model.device) for key, val in inputs.items()}\n",
    "    \n",
    "    with torch.no_grad():\n",
    "        outputs = model.generate(**inputs, max_length=258)\n",
    "    \n",
    "    # Decode the output\n",
    "    answer = tokenizer.decode(outputs[0], skip_special_tokens=True)\n",
    "    \n",
    "    # Extract \"yes\" or \"no\" from the output\n",
    "    if \"yes\" in answer.lower():\n",
    "        return \"yes\"\n",
    "    elif \"no\" in answer.lower():\n",
    "        return \"no\"\n",
    "    else:\n",
    "        return \"uncertain\"  # Handle cases where the answer is not clear\n",
    "\n",
    "# Evaluate the Q&A performance\n",
    "for example in eval_dataset:\n",
    "    question = example['question']\n",
    "    true_answer = example['final_decision']\n",
    "    predicted_answer = generate_answer(question)\n",
    "    print(f\"Question: {question}\")\n",
    "    print(f\"True Answer: {true_answer}\")\n",
    "    print(f\"Predicted Answer: {predicted_answer}\")\n",
    "    print(\"=\"*80)\n"
   ]
  }
 ],
 "metadata": {
  "kernelspec": {
   "display_name": "Python 3",
   "language": "python",
   "name": "python3"
  },
  "language_info": {
   "codemirror_mode": {
    "name": "ipython",
    "version": 3
   },
   "file_extension": ".py",
   "mimetype": "text/x-python",
   "name": "python",
   "nbconvert_exporter": "python",
   "pygments_lexer": "ipython3",
   "version": "3.11.0"
  }
 },
 "nbformat": 4,
 "nbformat_minor": 2
}
